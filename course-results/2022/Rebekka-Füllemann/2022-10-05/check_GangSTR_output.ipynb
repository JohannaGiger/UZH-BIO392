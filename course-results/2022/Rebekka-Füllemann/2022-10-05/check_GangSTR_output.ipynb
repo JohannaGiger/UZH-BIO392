{
 "cells": [
  {
   "cell_type": "markdown",
   "id": "1e8098c4",
   "metadata": {},
   "source": [
    "# Examining GangSTR STR genotypes based on bowtie2 alignments\n",
    "### BIO392 05.10.2022\n",
    "\n",
    "Contact: Max Verbiest (maxadriaan.verbiest@uzh.ch)\n",
    "\n",
    "In this notebook, we will explore whether the aligments we generated using bowtie2 are suitable to genotype STR lengths with."
   ]
  },
  {
   "cell_type": "markdown",
   "id": "a79d1f24",
   "metadata": {},
   "source": [
    "### 1: Load libraries and files"
   ]
  },
  {
   "cell_type": "code",
   "execution_count": 6,
   "id": "b0cb541a",
   "metadata": {},
   "outputs": [],
   "source": [
    "import numpy as np\n",
    "import pandas as pd\n",
    "import matplotlib.pyplot as plt\n",
    "import seaborn as sns\n",
    "\n",
    "import gangstr_utils\n",
    "\n",
    "%matplotlib inline"
   ]
  },
  {
   "cell_type": "code",
   "execution_count": 7,
   "id": "368a9a6e",
   "metadata": {},
   "outputs": [],
   "source": [
    "df_str_loci = pd.read_csv(\n",
    "    \"../data/repeats/APC_repeats.tsv\", \n",
    "    sep=\"\\t\", \n",
    "    header=None,\n",
    "    names=[\"chr\", \"start\", \"end\", \"unit_len\", \"unit\"])\n",
    "\n",
    "df_gangstr_mut = gangstr_utils.load_gangstr_output(df_str_loci, \"../results/mutated/mutated.vcf\")\n",
    "df_gangstr_wt = gangstr_utils.load_gangstr_output(df_str_loci, \"../results/wildtype/wildtype.vcf\")\n",
    "\n",
    "df_gangstr_merged = (gangstr_utils\n",
    "                         .merge_samples(df_gangstr_mut, df_gangstr_wt)\n",
    "                         .rename(columns={\"alt_s1\": \"alt_mut\", \"alt_s2\": \"alt_wt\"}))"
   ]
  },
  {
   "cell_type": "markdown",
   "id": "7cc65148",
   "metadata": {},
   "source": [
    "### 2: Look for loci where the samples differ in STR copy number"
   ]
  },
  {
   "cell_type": "code",
   "execution_count": 8,
   "id": "e2442531",
   "metadata": {},
   "outputs": [
    {
     "data": {
      "text/html": [
       "<div>\n",
       "<style scoped>\n",
       "    .dataframe tbody tr th:only-of-type {\n",
       "        vertical-align: middle;\n",
       "    }\n",
       "\n",
       "    .dataframe tbody tr th {\n",
       "        vertical-align: top;\n",
       "    }\n",
       "\n",
       "    .dataframe thead th {\n",
       "        text-align: right;\n",
       "    }\n",
       "</style>\n",
       "<table border=\"1\" class=\"dataframe\">\n",
       "  <thead>\n",
       "    <tr style=\"text-align: right;\">\n",
       "      <th></th>\n",
       "      <th>chr</th>\n",
       "      <th>start</th>\n",
       "      <th>end</th>\n",
       "      <th>unit_len</th>\n",
       "      <th>unit</th>\n",
       "      <th>ref</th>\n",
       "      <th>alt_mut</th>\n",
       "      <th>alt_wt</th>\n",
       "      <th>sample_difference</th>\n",
       "    </tr>\n",
       "  </thead>\n",
       "  <tbody>\n",
       "    <tr>\n",
       "      <th>86</th>\n",
       "      <td>chr5</td>\n",
       "      <td>137481</td>\n",
       "      <td>137490</td>\n",
       "      <td>2</td>\n",
       "      <td>AG</td>\n",
       "      <td>5.0</td>\n",
       "      <td>NaN</td>\n",
       "      <td>5.0</td>\n",
       "      <td>NaN</td>\n",
       "    </tr>\n",
       "  </tbody>\n",
       "</table>\n",
       "</div>"
      ],
      "text/plain": [
       "     chr   start     end  unit_len unit  ref  alt_mut  alt_wt  \\\n",
       "86  chr5  137481  137490         2   AG  5.0      NaN     5.0   \n",
       "\n",
       "    sample_difference  \n",
       "86                NaN  "
      ]
     },
     "execution_count": 8,
     "metadata": {},
     "output_type": "execute_result"
    }
   ],
   "source": [
    "df_gangstr_merged[df_gangstr_merged[\"sample_difference\"] != 0]"
   ]
  },
  {
   "cell_type": "markdown",
   "id": "0996b008",
   "metadata": {},
   "source": [
    "Strange! From the analyses we performed last week, we know that there should only be a difference in STR length between these two samples at one locus (the AG repeat at chr5:137481-137490). We now see differences at two other loci too. Furthermore, we were not even able to get an accurate estimate of STR length for chr5:137481-137490 in the mutated sample (you can look in the GangSTR vcf file for this sample to see what's going on). \n",
    "\n",
    "At every STR locus except for chr5:137481-137490, the samples should match the reference sequence (because I generated the inputs reads we used directly from the reference sequence). However, if we check the dataframes for STRs where the sample length does not match the reference length, we get many results:"
   ]
  },
  {
   "cell_type": "code",
   "execution_count": 9,
   "id": "30a84875",
   "metadata": {},
   "outputs": [
    {
     "data": {
      "text/html": [
       "<div>\n",
       "<style scoped>\n",
       "    .dataframe tbody tr th:only-of-type {\n",
       "        vertical-align: middle;\n",
       "    }\n",
       "\n",
       "    .dataframe tbody tr th {\n",
       "        vertical-align: top;\n",
       "    }\n",
       "\n",
       "    .dataframe thead th {\n",
       "        text-align: right;\n",
       "    }\n",
       "</style>\n",
       "<table border=\"1\" class=\"dataframe\">\n",
       "  <thead>\n",
       "    <tr style=\"text-align: right;\">\n",
       "      <th></th>\n",
       "      <th>chr</th>\n",
       "      <th>start</th>\n",
       "      <th>end</th>\n",
       "      <th>unit_len</th>\n",
       "      <th>unit</th>\n",
       "      <th>ref</th>\n",
       "      <th>alt</th>\n",
       "    </tr>\n",
       "  </thead>\n",
       "  <tbody>\n",
       "  </tbody>\n",
       "</table>\n",
       "</div>"
      ],
      "text/plain": [
       "Empty DataFrame\n",
       "Columns: [chr, start, end, unit_len, unit, ref, alt]\n",
       "Index: []"
      ]
     },
     "execution_count": 9,
     "metadata": {},
     "output_type": "execute_result"
    }
   ],
   "source": [
    "df_gangstr_wt[df_gangstr_wt[\"ref\"] != df_gangstr_wt[\"alt\"]]"
   ]
  },
  {
   "cell_type": "code",
   "execution_count": 10,
   "id": "86b9b2f2",
   "metadata": {},
   "outputs": [
    {
     "data": {
      "text/html": [
       "<div>\n",
       "<style scoped>\n",
       "    .dataframe tbody tr th:only-of-type {\n",
       "        vertical-align: middle;\n",
       "    }\n",
       "\n",
       "    .dataframe tbody tr th {\n",
       "        vertical-align: top;\n",
       "    }\n",
       "\n",
       "    .dataframe thead th {\n",
       "        text-align: right;\n",
       "    }\n",
       "</style>\n",
       "<table border=\"1\" class=\"dataframe\">\n",
       "  <thead>\n",
       "    <tr style=\"text-align: right;\">\n",
       "      <th></th>\n",
       "      <th>chr</th>\n",
       "      <th>start</th>\n",
       "      <th>end</th>\n",
       "      <th>unit_len</th>\n",
       "      <th>unit</th>\n",
       "      <th>ref</th>\n",
       "      <th>alt</th>\n",
       "    </tr>\n",
       "  </thead>\n",
       "  <tbody>\n",
       "    <tr>\n",
       "      <th>86</th>\n",
       "      <td>chr5</td>\n",
       "      <td>137481</td>\n",
       "      <td>137490</td>\n",
       "      <td>2</td>\n",
       "      <td>AG</td>\n",
       "      <td>5.0</td>\n",
       "      <td>NaN</td>\n",
       "    </tr>\n",
       "  </tbody>\n",
       "</table>\n",
       "</div>"
      ],
      "text/plain": [
       "     chr   start     end  unit_len unit  ref  alt\n",
       "86  chr5  137481  137490         2   AG  5.0  NaN"
      ]
     },
     "execution_count": 10,
     "metadata": {},
     "output_type": "execute_result"
    }
   ],
   "source": [
    "df_gangstr_mut[df_gangstr_mut[\"ref\"] != df_gangstr_mut[\"alt\"]]"
   ]
  },
  {
   "cell_type": "markdown",
   "id": "61cac8e2",
   "metadata": {},
   "source": [
    "### 3: What is going on??\n",
    "\n",
    "So, obviously, something is not quite right. Your task is now to find out where the observed errors come from, and how to fix it. The only tip you'll get for now is that there are problematic alignments in the BAM files we used, and that we want to extract only the 'properly paired' alignments. Luckily, the [samtools](https://www.htslib.org/doc/samtools.html) suite of tools (included in the BIO392_STRs conda env) offers all the functionality needed to address the problem. Particularly [samtools flagstat](https://www.htslib.org/doc/samtools-flagstat.html), [samtools view](https://www.htslib.org/doc/samtools-view.html) and [samtools flags](https://www.htslib.org/doc/samtools-flags.html) will be very useful. Going through these manual pages would be a good start. You can also visually inspect the aligments with [samtools tview](https://www.htslib.org/doc/samtools-tview.html).\n",
    "\n",
    "\n",
    "**Task 1:** Find a way to identify problematic alignments in the BAM files generated by bowtie2. Extract only 'proper pairs', and save these in new BAM files.\n",
    "\n",
    "**Task 2:** Rerun GangSTR using these new BAM files (you will need to change some things in the GangSTR bash script), and inspect the results using the code blocks at the start of this notebook.\n",
    "\n",
    "**Task 3:** Were you able to solve/improve the outcome? Is bowtie2 a good aligner to use for genotyping STRs?"
   ]
  }
 ],
 "metadata": {
  "kernelspec": {
   "display_name": "Python 3",
   "language": "python",
   "name": "python3"
  },
  "language_info": {
   "codemirror_mode": {
    "name": "ipython",
    "version": 3
   },
   "file_extension": ".py",
   "mimetype": "text/x-python",
   "name": "python",
   "nbconvert_exporter": "python",
   "pygments_lexer": "ipython3",
   "version": "3.6.15"
  }
 },
 "nbformat": 4,
 "nbformat_minor": 5
}
