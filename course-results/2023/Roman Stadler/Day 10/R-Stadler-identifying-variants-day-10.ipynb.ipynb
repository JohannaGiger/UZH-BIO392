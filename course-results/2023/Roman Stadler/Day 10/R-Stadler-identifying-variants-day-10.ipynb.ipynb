{
 "cells": [
  {
   "cell_type": "markdown",
   "id": "4849b873-bcea-4f54-a7b3-3648d0c40b62",
   "metadata": {},
   "source": [
    "# Identifying STR variants\n",
    "In this notebook you will load the variant calling results into a DataFrame, do some data wrangling, and identify which samples have STR variants in them. Please change the name of this file to \\<First letter\\>-\\<Last name\\>-identifying-variants-day-10.ipynb, (e.g., M-Mustermann-identifying-variants-day-10.ipynb), and upload it to your folder in the course GitHub.\n",
    "\n",
    "This notebook will not be graded separately, but may be considered when determining your participation grade.\n",
    "\n",
    "Start by loading some common data science libraries that we'll use to work with the data we gererated:"
   ]
  },
  {
   "cell_type": "code",
   "execution_count": 1,
   "id": "a9ab0442-9cf3-4993-908b-4375e0f24403",
   "metadata": {},
   "outputs": [],
   "source": [
    "import numpy as np\n",
    "import pandas as pd\n",
    "import matplotlib.pyplot as plt\n",
    "import seaborn as sns\n",
    "\n",
    "sns.set_context(\"poster\")"
   ]
  },
  {
   "cell_type": "markdown",
   "id": "5c064103-3dde-4be5-b216-00a6ce516e7b",
   "metadata": {},
   "source": [
    "We'll mostly be using the Pandas library today. For an overview of the library and some tutorials, see [here](https://pandas.pydata.org/docs/getting_started/overview.html). There is also a handy [cheat sheet](https://pandas.pydata.org/Pandas_Cheat_Sheet.pdf) containing most of the functionality you'll need.\n",
    "\n",
    "Read the 'merged_summary_results.tsv' file into a pandas DataFrame. The most convenient way to do this is with the [read_csv()](https://pandas.pydata.org/docs/reference/api/pandas.read_csv.html) function that pandas provides (make sure to set the column separator appropriately!)."
   ]
  },
  {
   "cell_type": "code",
   "execution_count": 16,
   "id": "5afbe7b8-900f-4600-a2a5-97f0ef1fa87f",
   "metadata": {},
   "outputs": [
    {
     "name": "stdout",
     "output_type": "stream",
     "text": [
      "/Users/rostad/Desktop/project-day-08/notebooks\n"
     ]
    },
    {
     "data": {
      "text/html": [
       "<div>\n",
       "<style scoped>\n",
       "    .dataframe tbody tr th:only-of-type {\n",
       "        vertical-align: middle;\n",
       "    }\n",
       "\n",
       "    .dataframe tbody tr th {\n",
       "        vertical-align: top;\n",
       "    }\n",
       "\n",
       "    .dataframe thead th {\n",
       "        text-align: right;\n",
       "    }\n",
       "</style>\n",
       "<table border=\"1\" class=\"dataframe\">\n",
       "  <thead>\n",
       "    <tr style=\"text-align: right;\">\n",
       "      <th></th>\n",
       "      <th>#[1]CHROM</th>\n",
       "      <th>[2]POS</th>\n",
       "      <th>[3]REF</th>\n",
       "      <th>[4]ALT</th>\n",
       "      <th>[5]patient_1:GT</th>\n",
       "      <th>[6]patient_2:GT</th>\n",
       "      <th>[7]patient_3:GT</th>\n",
       "    </tr>\n",
       "  </thead>\n",
       "  <tbody>\n",
       "    <tr>\n",
       "      <th>0</th>\n",
       "      <td>chr5</td>\n",
       "      <td>7241</td>\n",
       "      <td>a</td>\n",
       "      <td>.</td>\n",
       "      <td>0/0</td>\n",
       "      <td>0/0</td>\n",
       "      <td>0/0</td>\n",
       "    </tr>\n",
       "    <tr>\n",
       "      <th>1</th>\n",
       "      <td>chr5</td>\n",
       "      <td>9390</td>\n",
       "      <td>a</td>\n",
       "      <td>.</td>\n",
       "      <td>0/0</td>\n",
       "      <td>0/0</td>\n",
       "      <td>0/0</td>\n",
       "    </tr>\n",
       "    <tr>\n",
       "      <th>2</th>\n",
       "      <td>chr5</td>\n",
       "      <td>10062</td>\n",
       "      <td>t</td>\n",
       "      <td>.</td>\n",
       "      <td>0/0</td>\n",
       "      <td>0/0</td>\n",
       "      <td>0/0</td>\n",
       "    </tr>\n",
       "    <tr>\n",
       "      <th>3</th>\n",
       "      <td>chr5</td>\n",
       "      <td>10673</td>\n",
       "      <td>a</td>\n",
       "      <td>.</td>\n",
       "      <td>0/0</td>\n",
       "      <td>0/0</td>\n",
       "      <td>0/0</td>\n",
       "    </tr>\n",
       "    <tr>\n",
       "      <th>4</th>\n",
       "      <td>chr5</td>\n",
       "      <td>15411</td>\n",
       "      <td>t</td>\n",
       "      <td>.</td>\n",
       "      <td>0/0</td>\n",
       "      <td>0/0</td>\n",
       "      <td>0/0</td>\n",
       "    </tr>\n",
       "  </tbody>\n",
       "</table>\n",
       "</div>"
      ],
      "text/plain": [
       "  #[1]CHROM  [2]POS [3]REF [4]ALT [5]patient_1:GT [6]patient_2:GT  \\\n",
       "0      chr5    7241      a      .             0/0             0/0   \n",
       "1      chr5    9390      a      .             0/0             0/0   \n",
       "2      chr5   10062      t      .             0/0             0/0   \n",
       "3      chr5   10673      a      .             0/0             0/0   \n",
       "4      chr5   15411      t      .             0/0             0/0   \n",
       "\n",
       "  [7]patient_3:GT  \n",
       "0             0/0  \n",
       "1             0/0  \n",
       "2             0/0  \n",
       "3             0/0  \n",
       "4             0/0  "
      ]
     },
     "execution_count": 16,
     "metadata": {},
     "output_type": "execute_result"
    }
   ],
   "source": [
    "import os\n",
    "print(os.getcwd())\n",
    "\n",
    "\n",
    "import pandas as pd\n",
    "\n",
    "file_path = '../results/merged_results_summary.tsv'\n",
    "\n",
    "df = pd.read_csv(file_path, sep='\\t')\n",
    "\n",
    "df.head()"
   ]
  },
  {
   "cell_type": "markdown",
   "id": "aa02abf4-0f0c-4267-b753-ab2c9f3f60a5",
   "metadata": {},
   "source": [
    "The default column names that bcftools generated are not so nice. Rename them to something better."
   ]
  },
  {
   "cell_type": "code",
   "execution_count": 17,
   "id": "340f30d0-eea2-46ed-803e-8e8cadc2f626",
   "metadata": {},
   "outputs": [
    {
     "data": {
      "text/html": [
       "<div>\n",
       "<style scoped>\n",
       "    .dataframe tbody tr th:only-of-type {\n",
       "        vertical-align: middle;\n",
       "    }\n",
       "\n",
       "    .dataframe tbody tr th {\n",
       "        vertical-align: top;\n",
       "    }\n",
       "\n",
       "    .dataframe thead th {\n",
       "        text-align: right;\n",
       "    }\n",
       "</style>\n",
       "<table border=\"1\" class=\"dataframe\">\n",
       "  <thead>\n",
       "    <tr style=\"text-align: right;\">\n",
       "      <th></th>\n",
       "      <th>chromosome</th>\n",
       "      <th>position</th>\n",
       "      <th>reference</th>\n",
       "      <th>alternative</th>\n",
       "      <th>patient_1</th>\n",
       "      <th>patient_2</th>\n",
       "      <th>patient_3</th>\n",
       "    </tr>\n",
       "  </thead>\n",
       "  <tbody>\n",
       "    <tr>\n",
       "      <th>0</th>\n",
       "      <td>chr5</td>\n",
       "      <td>7241</td>\n",
       "      <td>a</td>\n",
       "      <td>.</td>\n",
       "      <td>0/0</td>\n",
       "      <td>0/0</td>\n",
       "      <td>0/0</td>\n",
       "    </tr>\n",
       "    <tr>\n",
       "      <th>1</th>\n",
       "      <td>chr5</td>\n",
       "      <td>9390</td>\n",
       "      <td>a</td>\n",
       "      <td>.</td>\n",
       "      <td>0/0</td>\n",
       "      <td>0/0</td>\n",
       "      <td>0/0</td>\n",
       "    </tr>\n",
       "    <tr>\n",
       "      <th>2</th>\n",
       "      <td>chr5</td>\n",
       "      <td>10062</td>\n",
       "      <td>t</td>\n",
       "      <td>.</td>\n",
       "      <td>0/0</td>\n",
       "      <td>0/0</td>\n",
       "      <td>0/0</td>\n",
       "    </tr>\n",
       "    <tr>\n",
       "      <th>3</th>\n",
       "      <td>chr5</td>\n",
       "      <td>10673</td>\n",
       "      <td>a</td>\n",
       "      <td>.</td>\n",
       "      <td>0/0</td>\n",
       "      <td>0/0</td>\n",
       "      <td>0/0</td>\n",
       "    </tr>\n",
       "    <tr>\n",
       "      <th>4</th>\n",
       "      <td>chr5</td>\n",
       "      <td>15411</td>\n",
       "      <td>t</td>\n",
       "      <td>.</td>\n",
       "      <td>0/0</td>\n",
       "      <td>0/0</td>\n",
       "      <td>0/0</td>\n",
       "    </tr>\n",
       "  </tbody>\n",
       "</table>\n",
       "</div>"
      ],
      "text/plain": [
       "  chromosome  position reference alternative patient_1 patient_2 patient_3\n",
       "0       chr5      7241         a           .       0/0       0/0       0/0\n",
       "1       chr5      9390         a           .       0/0       0/0       0/0\n",
       "2       chr5     10062         t           .       0/0       0/0       0/0\n",
       "3       chr5     10673         a           .       0/0       0/0       0/0\n",
       "4       chr5     15411         t           .       0/0       0/0       0/0"
      ]
     },
     "execution_count": 17,
     "metadata": {},
     "output_type": "execute_result"
    }
   ],
   "source": [
    "new_column_names = {\n",
    "    '#[1]CHROM': 'chromosome',\n",
    "    '[2]POS': 'position',\n",
    "    '[3]REF': 'reference',\n",
    "    '[4]ALT': 'alternative',\n",
    "    '[5]patient_1:GT': 'patient_1',\n",
    "    '[6]patient_2:GT': 'patient_2',\n",
    "    '[7]patient_3:GT': 'patient_3'\n",
    "}\n",
    "\n",
    "df.rename(columns=new_column_names, inplace=True)\n",
    "\n",
    "df.head()"
   ]
  },
  {
   "cell_type": "markdown",
   "id": "0550370d-9c5d-428f-b138-0d945d814edf",
   "metadata": {},
   "source": [
    "Now it's time to do some data wrangling. We want to transform the dataframe from it's current (wide) format to a long format<sup>*</sup>. After the wrangling, every row in the dataframe should contain an observation of one STR locus in one patient, like so:\n",
    "\n",
    "\n",
    "|    | chromosome         | position     | reference |     alternative       |   patient  |       genotype     |\n",
    "|--------------|--------------|-----------|------------|------------|------------|------------|\n",
    "|  **0**  | chr5 | 298      | a        |       .     |      patient_1      |      0/0      |\n",
    "|  **1**  | chr5      |  298 | a       |       .     |       patient_2     |       0/0     |\n",
    "|  **2**  | chr5      |  298 | a       |       .     |       patient_3     |       0/0     |\n",
    "\n",
    "Pandas dataframes offer a handy function to accomplish this: [pd.DataFrame.melt()](https://pandas.pydata.org/pandas-docs/version/1.0.0/reference/api/pandas.DataFrame.melt.html).\n",
    "\n",
    "**Note: wide data formats are usually preferred when presenting data to humans, i.e., in a presentation. Long data formats tend to be more convenient for data analysis and plotting purposes.*"
   ]
  },
  {
   "cell_type": "code",
   "execution_count": 19,
   "id": "c4aa727c-5928-48a6-b85a-0dad29c816c3",
   "metadata": {},
   "outputs": [
    {
     "data": {
      "text/html": [
       "<div>\n",
       "<style scoped>\n",
       "    .dataframe tbody tr th:only-of-type {\n",
       "        vertical-align: middle;\n",
       "    }\n",
       "\n",
       "    .dataframe tbody tr th {\n",
       "        vertical-align: top;\n",
       "    }\n",
       "\n",
       "    .dataframe thead th {\n",
       "        text-align: right;\n",
       "    }\n",
       "</style>\n",
       "<table border=\"1\" class=\"dataframe\">\n",
       "  <thead>\n",
       "    <tr style=\"text-align: right;\">\n",
       "      <th></th>\n",
       "      <th>chromosome</th>\n",
       "      <th>position</th>\n",
       "      <th>reference</th>\n",
       "      <th>alternative</th>\n",
       "      <th>patient</th>\n",
       "      <th>genotype</th>\n",
       "    </tr>\n",
       "  </thead>\n",
       "  <tbody>\n",
       "    <tr>\n",
       "      <th>0</th>\n",
       "      <td>chr5</td>\n",
       "      <td>7241</td>\n",
       "      <td>a</td>\n",
       "      <td>.</td>\n",
       "      <td>patient_1</td>\n",
       "      <td>0/0</td>\n",
       "    </tr>\n",
       "    <tr>\n",
       "      <th>1</th>\n",
       "      <td>chr5</td>\n",
       "      <td>9390</td>\n",
       "      <td>a</td>\n",
       "      <td>.</td>\n",
       "      <td>patient_1</td>\n",
       "      <td>0/0</td>\n",
       "    </tr>\n",
       "    <tr>\n",
       "      <th>2</th>\n",
       "      <td>chr5</td>\n",
       "      <td>10062</td>\n",
       "      <td>t</td>\n",
       "      <td>.</td>\n",
       "      <td>patient_1</td>\n",
       "      <td>0/0</td>\n",
       "    </tr>\n",
       "    <tr>\n",
       "      <th>3</th>\n",
       "      <td>chr5</td>\n",
       "      <td>10673</td>\n",
       "      <td>a</td>\n",
       "      <td>.</td>\n",
       "      <td>patient_1</td>\n",
       "      <td>0/0</td>\n",
       "    </tr>\n",
       "    <tr>\n",
       "      <th>4</th>\n",
       "      <td>chr5</td>\n",
       "      <td>15411</td>\n",
       "      <td>t</td>\n",
       "      <td>.</td>\n",
       "      <td>patient_1</td>\n",
       "      <td>0/0</td>\n",
       "    </tr>\n",
       "  </tbody>\n",
       "</table>\n",
       "</div>"
      ],
      "text/plain": [
       "  chromosome  position reference alternative    patient genotype\n",
       "0       chr5      7241         a           .  patient_1      0/0\n",
       "1       chr5      9390         a           .  patient_1      0/0\n",
       "2       chr5     10062         t           .  patient_1      0/0\n",
       "3       chr5     10673         a           .  patient_1      0/0\n",
       "4       chr5     15411         t           .  patient_1      0/0"
      ]
     },
     "execution_count": 19,
     "metadata": {},
     "output_type": "execute_result"
    }
   ],
   "source": [
    "melted_df = pd.melt(df, id_vars=['chromosome', 'position', 'reference', 'alternative'], \n",
    "                    var_name='patient', value_name='genotype')\n",
    "\n",
    "melted_df.head()\n"
   ]
  },
  {
   "cell_type": "markdown",
   "id": "cf6e726f-caaa-4c6b-a8d6-c38ad23c1d33",
   "metadata": {},
   "source": [
    "Finally, we want to select only those rows from the dataframe that are of interest to us: those rows where there is an STR variant. Using what you know about the VCF format, you should be able to come up with a criterion to filter the dataframe on to select the variant rows.\n",
    "\n",
    "*In case you're not sure how to filter pandas dataframes: here is a [tutorial](https://pandas.pydata.org/docs/getting_started/intro_tutorials/03_subset_data.html)*."
   ]
  },
  {
   "cell_type": "code",
   "execution_count": 20,
   "id": "257c3835-b433-4e38-a287-cae4deef328a",
   "metadata": {},
   "outputs": [
    {
     "name": "stdout",
     "output_type": "stream",
     "text": [
      "    chromosome  position reference alternative    patient genotype\n",
      "61        chr5    106700         a          aa  patient_1      1/1\n",
      "85        chr5    137481         a   agagagaga  patient_1      0/0\n",
      "148       chr5    106700         a          aa  patient_2      0/0\n",
      "172       chr5    137481         a   agagagaga  patient_2      0/0\n",
      "235       chr5    106700         a          aa  patient_3      0/0\n",
      "259       chr5    137481         a   agagagaga  patient_3      1/1\n"
     ]
    }
   ],
   "source": [
    "variant_rows = melted_df[melted_df['alternative'] != '.']\n",
    "\n",
    "print(variant_rows)"
   ]
  },
  {
   "cell_type": "markdown",
   "id": "74f4fbd1-cadc-435f-b15e-4fa21efb0f74",
   "metadata": {},
   "source": [
    "There should be two STR variants in total. If you managed to identify them, good job! You can now return to the main `README.md` file and continue with the rest of the analysis there."
   ]
  },
  {
   "cell_type": "markdown",
   "id": "941d86cc-8913-490e-b742-feb7f0d6736a",
   "metadata": {},
   "source": [
    "## Bonus exercise: cyvcf2\n",
    "In case you were already familiar with pandas and were able to complete the data wrangling easily, you can give this bonus exercise a try.\n",
    "\n",
    "Instead of using bcftools to generate a summary file, it is much more common to work with the VCF file directly. Python libraries exists to facilitate this. See if you are able to identify the same STR variants as above by using the [cyvcf2](https://brentp.github.io/cyvcf2/) library to parse the `merged_results.vcf` file directly!"
   ]
  },
  {
   "cell_type": "code",
   "execution_count": 24,
   "id": "657b2fdb-1c4b-4955-b87f-00a8b4d34004",
   "metadata": {},
   "outputs": [
    {
     "ename": "ModuleNotFoundError",
     "evalue": "No module named 'cyvcf2'",
     "output_type": "error",
     "traceback": [
      "\u001b[0;31m---------------------------------------------------------------------------\u001b[0m",
      "\u001b[0;31mModuleNotFoundError\u001b[0m                       Traceback (most recent call last)",
      "Cell \u001b[0;32mIn[24], line 1\u001b[0m\n\u001b[0;32m----> 1\u001b[0m \u001b[38;5;28;01mimport\u001b[39;00m \u001b[38;5;21;01mcyvcf2\u001b[39;00m\n",
      "\u001b[0;31mModuleNotFoundError\u001b[0m: No module named 'cyvcf2'"
     ]
    }
   ],
   "source": [
    "import cyvcf2"
   ]
  },
  {
   "cell_type": "code",
   "execution_count": 25,
   "id": "1c014b9b-5e11-4dd3-8baf-4c48fa772f2e",
   "metadata": {},
   "outputs": [
    {
     "ename": "NameError",
     "evalue": "name 'cyvcf2' is not defined",
     "output_type": "error",
     "traceback": [
      "\u001b[0;31m---------------------------------------------------------------------------\u001b[0m",
      "\u001b[0;31mNameError\u001b[0m                                 Traceback (most recent call last)",
      "Cell \u001b[0;32mIn[25], line 3\u001b[0m\n\u001b[1;32m      1\u001b[0m vcf_file \u001b[38;5;241m=\u001b[39m \u001b[38;5;124m'\u001b[39m\u001b[38;5;124mpath_to_your_merged_results.vcf\u001b[39m\u001b[38;5;124m'\u001b[39m\n\u001b[0;32m----> 3\u001b[0m vcf_reader \u001b[38;5;241m=\u001b[39m \u001b[43mcyvcf2\u001b[49m\u001b[38;5;241m.\u001b[39mVCF(vcf_file)\n\u001b[1;32m      5\u001b[0m \u001b[38;5;28;01mfor\u001b[39;00m record \u001b[38;5;129;01min\u001b[39;00m vcf_reader:\n\u001b[1;32m      6\u001b[0m     \u001b[38;5;28;01mif\u001b[39;00m \u001b[38;5;124m'\u001b[39m\u001b[38;5;124mSTR\u001b[39m\u001b[38;5;124m'\u001b[39m \u001b[38;5;129;01min\u001b[39;00m record\u001b[38;5;241m.\u001b[39mINFO\u001b[38;5;241m.\u001b[39mget(\u001b[38;5;124m'\u001b[39m\u001b[38;5;124mSVTYPE\u001b[39m\u001b[38;5;124m'\u001b[39m, []):\n",
      "\u001b[0;31mNameError\u001b[0m: name 'cyvcf2' is not defined"
     ]
    }
   ],
   "source": [
    "vcf_file = 'path_to_your_merged_results.vcf'\n",
    "\n",
    "vcf_reader = cyvcf2.VCF(vcf_file)\n",
    "\n",
    "for record in vcf_reader:\n",
    "    if 'STR' in record.INFO.get('SVTYPE', []):\n",
    "        chromosome = record.CHROM\n",
    "        position = record.POS\n",
    "        ref_allele = record.REF\n",
    "        alt_allele = record.ALT\n",
    "        print(f\"Chromosome: {chromosome}, Position: {position}, REF: {ref_allele}, ALT: {alt_allele}\")\n",
    "\n"
   ]
  },
  {
   "cell_type": "code",
   "execution_count": null,
   "id": "ae7e57f1",
   "metadata": {},
   "outputs": [],
   "source": []
  }
 ],
 "metadata": {
  "kernelspec": {
   "display_name": "Python 3 (ipykernel)",
   "language": "python",
   "name": "python3"
  },
  "language_info": {
   "codemirror_mode": {
    "name": "ipython",
    "version": 3
   },
   "file_extension": ".py",
   "mimetype": "text/x-python",
   "name": "python",
   "nbconvert_exporter": "python",
   "pygments_lexer": "ipython3",
   "version": "3.8.9"
  }
 },
 "nbformat": 4,
 "nbformat_minor": 5
}
