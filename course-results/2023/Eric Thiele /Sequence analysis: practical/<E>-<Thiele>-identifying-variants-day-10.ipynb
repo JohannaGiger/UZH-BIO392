{
 "cells": [
  {
   "cell_type": "markdown",
   "id": "4849b873-bcea-4f54-a7b3-3648d0c40b62",
   "metadata": {},
   "source": [
    "# Identifying STR variants\n",
    "In this notebook you will load the variant calling results into a DataFrame, do some data wrangling, and identify which samples have STR variants in them. Please change the name of this file to \\<First letter\\>-\\<Last name\\>-identifying-variants-day-10.ipynb, (e.g., M-Mustermann-identifying-variants-day-10.ipynb), and upload it to your folder in the course GitHub.\n",
    "\n",
    "This notebook will not be graded separately, but may be considered when determining your participation grade.\n",
    "\n",
    "Start by loading some common data science libraries that we'll use to work with the data we gererated:"
   ]
  },
  {
   "cell_type": "code",
   "execution_count": 31,
   "id": "a9ab0442-9cf3-4993-908b-4375e0f24403",
   "metadata": {},
   "outputs": [],
   "source": [
    "import numpy as np\n",
    "import pandas as pd\n",
    "import matplotlib.pyplot as plt\n",
    "import seaborn as sns\n",
    "\n",
    "sns.set_context(\"poster\")"
   ]
  },
  {
   "cell_type": "markdown",
   "id": "5c064103-3dde-4be5-b216-00a6ce516e7b",
   "metadata": {},
   "source": [
    "We'll mostly be using the Pandas library today. For an overview of the library and some tutorials, see [here](https://pandas.pydata.org/docs/getting_started/overview.html). There is also a handy [cheat sheet](https://pandas.pydata.org/Pandas_Cheat_Sheet.pdf) containing most of the functionality you'll need.\n",
    "\n",
    "Read the 'merged_summary_results.tsv' file into a pandas DataFrame. The most convenient way to do this is with the [read_csv()](https://pandas.pydata.org/docs/reference/api/pandas.read_csv.html) function that pandas provides (make sure to set the column separator appropriately!)."
   ]
  },
  {
   "cell_type": "code",
   "execution_count": 32,
   "id": "5afbe7b8-900f-4600-a2a5-97f0ef1fa87f",
   "metadata": {},
   "outputs": [
    {
     "name": "stdout",
     "output_type": "stream",
     "text": [
      "   #[1]CHROM  [2]POS [3]REF     [4]ALT [5]patient_1:GT [6]patient_2:GT  \\\n",
      "0       chr5    7241      a          .             0/0             0/0   \n",
      "1       chr5    9390      a          .             0/0             0/0   \n",
      "2       chr5   10062      t          .             0/0             0/0   \n",
      "3       chr5   10673      a          .             0/0             0/0   \n",
      "4       chr5   15411      t          .             0/0             0/0   \n",
      "..       ...     ...    ...        ...             ...             ...   \n",
      "82      chr5  133075      t          .             0/0             0/0   \n",
      "83      chr5  133512      t          .             0/0             0/0   \n",
      "84      chr5  133668      c          .             0/0             0/0   \n",
      "85      chr5  137481      a  agagagaga             0/0             0/0   \n",
      "86      chr5  142034      a          .             0/0             0/0   \n",
      "\n",
      "   [7]patient_3:GT  \n",
      "0              0/0  \n",
      "1              0/0  \n",
      "2              0/0  \n",
      "3              0/0  \n",
      "4              0/0  \n",
      "..             ...  \n",
      "82             0/0  \n",
      "83             0/0  \n",
      "84             0/0  \n",
      "85             1/1  \n",
      "86             0/0  \n",
      "\n",
      "[87 rows x 7 columns]\n"
     ]
    }
   ],
   "source": [
    "import pandas \n",
    "result = pandas.read_csv(\"/Volumes/Kurs/UsersBio/ethiel/BIO-392-/project-day-08/results/merged_results_summary.tsv\", sep=\"\\t\")\n",
    "print(result)\n"
   ]
  },
  {
   "cell_type": "markdown",
   "id": "aa02abf4-0f0c-4267-b753-ab2c9f3f60a5",
   "metadata": {},
   "source": [
    "The default column names that bcftools generated are not so nice. Rename them to something better."
   ]
  },
  {
   "cell_type": "code",
   "execution_count": 33,
   "id": "340f30d0-eea2-46ed-803e-8e8cadc2f626",
   "metadata": {},
   "outputs": [
    {
     "name": "stdout",
     "output_type": "stream",
     "text": [
      "   Chromosome  Position Reference Alternative Patient 1 Patient 2 Patient 3\n",
      "0        chr5      7241         a           .       0/0       0/0       0/0\n",
      "1        chr5      9390         a           .       0/0       0/0       0/0\n",
      "2        chr5     10062         t           .       0/0       0/0       0/0\n",
      "3        chr5     10673         a           .       0/0       0/0       0/0\n",
      "4        chr5     15411         t           .       0/0       0/0       0/0\n",
      "..        ...       ...       ...         ...       ...       ...       ...\n",
      "82       chr5    133075         t           .       0/0       0/0       0/0\n",
      "83       chr5    133512         t           .       0/0       0/0       0/0\n",
      "84       chr5    133668         c           .       0/0       0/0       0/0\n",
      "85       chr5    137481         a   agagagaga       0/0       0/0       1/1\n",
      "86       chr5    142034         a           .       0/0       0/0       0/0\n",
      "\n",
      "[87 rows x 7 columns]\n"
     ]
    }
   ],
   "source": [
    "result=result.rename(columns={'#[1]CHROM':'Chromosome', '[2]POS':'Position', '[3]REF':'Reference',\n",
    "                              '[4]ALT':'Alternative','[5]patient_1:GT':'Patient 1',\n",
    "                              '[6]patient_2:GT':'Patient 2', '[7]patient_3:GT':'Patient 3' })\n",
    "print(result)"
   ]
  },
  {
   "cell_type": "markdown",
   "id": "0550370d-9c5d-428f-b138-0d945d814edf",
   "metadata": {},
   "source": [
    "Now it's time to do some data wrangling. We want to transform the dataframe from it's current (wide) format to a long format<sup>*</sup>. After the wrangling, every row in the dataframe should contain an observation of one STR locus in one patient, like so:\n",
    "\n",
    "\n",
    "|    | chromosome         | position     | reference |     alternative       |   patient  |       genotype     |\n",
    "|--------------|--------------|-----------|------------|------------|------------|------------|\n",
    "|  **0**  | chr5 | 298      | a        |       .     |      patient_1      |      0/0      |\n",
    "|  **1**  | chr5      |  298 | a       |       .     |       patient_2     |       0/0     |\n",
    "|  **2**  | chr5      |  298 | a       |       .     |       patient_3     |       0/0     |\n",
    "\n",
    "Pandas dataframes offer a handy function to accomplish this: [pd.DataFrame.melt()](https://pandas.pydata.org/pandas-docs/version/1.0.0/reference/api/pandas.DataFrame.melt.html).\n",
    "\n",
    "**Note: wide data formats are usually preferred when presenting data to humans, i.e., in a presentation. Long data formats tend to be more convenient for data analysis and plotting purposes.*"
   ]
  },
  {
   "cell_type": "code",
   "execution_count": 34,
   "id": "c4aa727c-5928-48a6-b85a-0dad29c816c3",
   "metadata": {},
   "outputs": [
    {
     "name": "stdout",
     "output_type": "stream",
     "text": [
      "    Chromosome  Position Reference Alternative    patient genotype\n",
      "0         chr5      7241         a           .  Patient 1      0/0\n",
      "1         chr5      9390         a           .  Patient 1      0/0\n",
      "2         chr5     10062         t           .  Patient 1      0/0\n",
      "3         chr5     10673         a           .  Patient 1      0/0\n",
      "4         chr5     15411         t           .  Patient 1      0/0\n",
      "..         ...       ...       ...         ...        ...      ...\n",
      "256       chr5    133075         t           .  Patient 3      0/0\n",
      "257       chr5    133512         t           .  Patient 3      0/0\n",
      "258       chr5    133668         c           .  Patient 3      0/0\n",
      "259       chr5    137481         a   agagagaga  Patient 3      1/1\n",
      "260       chr5    142034         a           .  Patient 3      0/0\n",
      "\n",
      "[261 rows x 6 columns]\n"
     ]
    }
   ],
   "source": [
    "res= result.melt(id_vars=['Chromosome','Position','Reference','Alternative'],\n",
    "                   value_vars=['Patient 1','Patient 2','Patient 3'],\n",
    "                    var_name='patient', value_name='genotype')\n",
    "print(res)\n"
   ]
  },
  {
   "cell_type": "markdown",
   "id": "cf6e726f-caaa-4c6b-a8d6-c38ad23c1d33",
   "metadata": {},
   "source": [
    "Finally, we want to select only those rows from the dataframe that are of interest to us: those rows where there is an STR variant. Using what you know about the VCF format, you should be able to come up with a criterion to filter the dataframe on to select the variant rows.\n",
    "\n",
    "*In case you're not sure how to filter pandas dataframes: here is a [tutorial](https://pandas.pydata.org/docs/getting_started/intro_tutorials/03_subset_data.html)*."
   ]
  },
  {
   "cell_type": "code",
   "execution_count": 42,
   "id": "257c3835-b433-4e38-a287-cae4deef328a",
   "metadata": {},
   "outputs": [
    {
     "name": "stdout",
     "output_type": "stream",
     "text": [
      "    Chromosome  Position Reference Alternative    patient genotype\n",
      "61        chr5    106700         a          aa  Patient 1      1/1\n",
      "85        chr5    137481         a   agagagaga  Patient 1      0/0\n",
      "148       chr5    106700         a          aa  Patient 2      0/0\n",
      "172       chr5    137481         a   agagagaga  Patient 2      0/0\n",
      "235       chr5    106700         a          aa  Patient 3      0/0\n",
      "259       chr5    137481         a   agagagaga  Patient 3      1/1\n"
     ]
    }
   ],
   "source": [
    "result_new = res[res[\"Alternative\"]!='.']\n",
    "print(result_new)"
   ]
  },
  {
   "cell_type": "markdown",
   "id": "74f4fbd1-cadc-435f-b15e-4fa21efb0f74",
   "metadata": {},
   "source": [
    "There should be two STR variants in total. If you managed to identify them, good job! You can now return to the main `README.md` file and continue with the rest of the analysis there."
   ]
  },
  {
   "cell_type": "markdown",
   "id": "941d86cc-8913-490e-b742-feb7f0d6736a",
   "metadata": {},
   "source": [
    "## Bonus exercise: cyvcf2\n",
    "In case you were already familiar with pandas and were able to complete the data wrangling easily, you can give this bonus exercise a try.\n",
    "\n",
    "Instead of using bcftools to generate a summary file, it is much more common to work with the VCF file directly. Python libraries exists to facilitate this. See if you are able to identify the same STR variants as above by using the [cyvcf2](https://brentp.github.io/cyvcf2/) library to parse the `merged_results.vcf` file directly!"
   ]
  },
  {
   "cell_type": "code",
   "execution_count": null,
   "id": "657b2fdb-1c4b-4955-b87f-00a8b4d34004",
   "metadata": {},
   "outputs": [],
   "source": [
    "import cyvcf2\n"
   ]
  },
  {
   "cell_type": "code",
   "execution_count": 13,
   "id": "1c014b9b-5e11-4dd3-8baf-4c48fa772f2e",
   "metadata": {},
   "outputs": [],
   "source": [
    "# Your code here\n",
    "\n"
   ]
  }
 ],
 "metadata": {
  "kernelspec": {
   "display_name": "Python 3 (ipykernel)",
   "language": "python",
   "name": "python3"
  },
  "language_info": {
   "codemirror_mode": {
    "name": "ipython",
    "version": 3
   },
   "file_extension": ".py",
   "mimetype": "text/x-python",
   "name": "python",
   "nbconvert_exporter": "python",
   "pygments_lexer": "ipython3",
   "version": "3.8.9"
  }
 },
 "nbformat": 4,
 "nbformat_minor": 5
}
