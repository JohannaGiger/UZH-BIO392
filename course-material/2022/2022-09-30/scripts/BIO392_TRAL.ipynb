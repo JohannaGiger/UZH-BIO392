{
 "cells": [
  {
   "cell_type": "markdown",
   "id": "e01ed3a8",
   "metadata": {},
   "source": [
    "# Detecting Short Tandem Repeats (STRs) in the *APC* gene\n",
    "### BIO392 30.09.2022\n",
    "Contact: Max Verbiest (maxadriaan.verbiest@uzh.ch)"
   ]
  },
  {
   "cell_type": "markdown",
   "id": "d3104d65",
   "metadata": {},
   "source": [
    "The aim of this notebook is to detect where STRs occur in a reference DNA sequence, and filter out low-quality repeats. For this example, we will use the DNA sequence of the *APC* gene, which is often mutated in colorectal cancer."
   ]
  },
  {
   "cell_type": "markdown",
   "id": "46cf896d",
   "metadata": {},
   "source": [
    "### 1: Load required libraries and convenience functions"
   ]
  },
  {
   "cell_type": "code",
   "execution_count": 1,
   "id": "54d3ddcf",
   "metadata": {},
   "outputs": [],
   "source": [
    "# pickle library is needed to load .pickle files\n",
    "import pickle  \n",
    "\n",
    "# numpy and pandas are libraries to work with structured data\n",
    "import numpy as np\n",
    "import pandas as pd\n",
    "# matplotlib and seaborn are used for making plots\n",
    "import matplotlib.pyplot as plt\n",
    "import seaborn as sns\n",
    "sns.set_context(\"poster\")\n",
    "\n",
    "# we also need some classes from TRAL, to work with repeats\n",
    "from tral.repeat.repeat import Repeat\n",
    "from tral.repeat_list.repeat_list import RepeatList\n",
    "# script with some functions to make life easier\n",
    "import str_utils\n",
    "\n",
    "%matplotlib inline"
   ]
  },
  {
   "cell_type": "markdown",
   "id": "9ade6e9c",
   "metadata": {},
   "source": [
    "### 2: Load the file with repeats\n",
    "The 'APC_repeats.pickle' file contains the unfiltered output of several repeat detection algorithms, and was generated using TRALs repeat detection modules. We're not going to run the repeat detection ourselves today, as this part of TRAL has many dependencies and is quite tricky to set up properly. Today, we will focus on filtering this annotation down to a subset of high-confidence STRs, and write these to a file for later use."
   ]
  },
  {
   "cell_type": "code",
   "execution_count": 1,
   "id": "37d96931",
   "metadata": {},
   "outputs": [],
   "source": [
    "with open(\"../data/repeats/APC_repeats.pickle\", \"rb\") as f:\n",
    "    APC_repeats = pickle.load(f)\n",
    "    \n",
    "APC_repeats = str_utils.sort_repeatlist(APC_repeats)\n",
    "print(f\"There are {len(APC_repeats.repeats)} tandem repeats detected in the APC gene before filtering.\")"
   ]
  },
  {
   "cell_type": "markdown",
   "id": "f9912255",
   "metadata": {},
   "source": [
    "We just loaded TRALs repeat annotation of the *APC* gene into the variable 'APC_repeats', which is an instance of TRALs 'RepeatList' class. Repeats can be accessed through 'APC_repeats.repeats', which will return a list containing the repeats.\n",
    "For example, the 17th entry in this list is an STR made up of 12 'A' nucleotides, which starts at the 298th position of the APC gene region:"
   ]
  },
  {
   "cell_type": "code",
   "execution_count": 2,
   "id": "6a3bf852",
   "metadata": {
    "scrolled": true
   },
   "outputs": [],
   "source": [
    "print(APC_repeats.repeats[16])"
   ]
  },
  {
   "cell_type": "markdown",
   "id": "b32aa891",
   "metadata": {},
   "source": [
    "Using 'str_utils.plot_repeatlist()', we can have a look at the distribution of the different types of repeats that TRAL detected in the APC gene. "
   ]
  },
  {
   "cell_type": "code",
   "execution_count": 3,
   "id": "571b05d2",
   "metadata": {},
   "outputs": [],
   "source": [
    "str_utils.plot_repeatlist(APC_repeats)\n"
   ]
  },
  {
   "cell_type": "markdown",
   "id": "92507578",
   "metadata": {},
   "source": [
    "From the histogram, we can see that there are many non-STR tandem repeats with unit sizes > 6. Furthermore, there are also quite some 'low-quality' repeats, that have mismatches and indels between the different repeat units:"
   ]
  },
  {
   "cell_type": "code",
   "execution_count": 4,
   "id": "7e8ae961",
   "metadata": {
    "scrolled": true
   },
   "outputs": [],
   "source": [
    "print(APC_repeats.repeats[25])"
   ]
  },
  {
   "cell_type": "markdown",
   "id": "6c41b55f",
   "metadata": {},
   "source": [
    "In fact, most of the repeats are not of the type we are interested in. Have a look at the first 5 entries in APC_repeats.repeats:"
   ]
  },
  {
   "cell_type": "code",
   "execution_count": 5,
   "id": "3f1e0c16",
   "metadata": {},
   "outputs": [],
   "source": [
    "for i in range(5):\n",
    "    print(APC_repeats.repeats[i], \"\\n\")"
   ]
  },
  {
   "cell_type": "markdown",
   "id": "43c868ae",
   "metadata": {},
   "source": [
    "### 3: Filtering the repeats\n",
    "So, clearly, we need to filter our set of repeats down to a set of STRs that are likely to be affected by replication slippage, and the high mutability that is associated with STRs.\n",
    "\n",
    "First of all, we will of course remove repeats whose motif is not 'short' enough: those where the repeating unit is longer than 6 nucleotides. Apart from this, TRAL also provides statistical frameworks to calculate scores for repeats. We will use the p-values and divergence scores from TRAL to select only the most high quality repeats. We will implement four filter criteria:\n",
    "- Repeat unit length\n",
    "- Repeat copy number (the number of units repeated in tandem)\n",
    "- Repeat p-value (calculated using TRAL)\n",
    "- Repeat divergence (calculated using TRAL)"
   ]
  },
  {
   "cell_type": "code",
   "execution_count": 6,
   "id": "a103e760",
   "metadata": {
    "scrolled": true
   },
   "outputs": [],
   "source": [
    "# in this dictionary, every key represents a repeat unit size, and every value represents\n",
    "# the minimum copy number that we require a repeat of that unit size to have\n",
    "min_repeat_copies = {\n",
    "    1: 9,\n",
    "    2: 5,\n",
    "    3: 4,\n",
    "    4: 3,\n",
    "    5: 3,\n",
    "    6: 3\n",
    "}\n",
    "# the maximum values that we allow for a repeats p-value and divergence\n",
    "max_pval = 0.05\n",
    "max_div = 0.03\n",
    "\n",
    "APC_repeats_filt = RepeatList(repeats=[])\n",
    "for repeat in APC_repeats.repeats:\n",
    "    if not str_utils.low_quality_repeat(repeat, max_pval, max_div, min_repeat_copies):\n",
    "        APC_repeats_filt.repeats.append(repeat)\n",
    "\n",
    "print(f\"There are {len(APC_repeats_filt.repeats)} STRs detected in the APC gene after filtering.\")"
   ]
  },
  {
   "cell_type": "code",
   "execution_count": 7,
   "id": "e2552086",
   "metadata": {},
   "outputs": [],
   "source": [
    "str_utils.plot_repeatlist(APC_repeats_filt)\n"
   ]
  },
  {
   "cell_type": "markdown",
   "id": "d8371a26",
   "metadata": {},
   "source": [
    "Have a look at the histogram above. How does it differ from the graph we made for the unfiltered data? Also take some time to check the repeats in the new 'APC_repeats_filt', how do they look compared to the repeats we saw before the filtering?"
   ]
  },
  {
   "cell_type": "code",
   "execution_count": 16,
   "id": "936a0cda",
   "metadata": {},
   "outputs": [],
   "source": [
    "# Task: print some repeats from APC_repeats_filt.repeats, compare them to those in APC_repeats.repeats\n",
    "\n"
   ]
  },
  {
   "cell_type": "markdown",
   "id": "625e6dca",
   "metadata": {},
   "source": [
    "The STRs in the filtered data should (hopefully) look a lot better than it did before. There are, however, still some final things to address before we can use our repeat annotations. For example, take a look at the following to STRs in 'APC_repeats_filt':"
   ]
  },
  {
   "cell_type": "code",
   "execution_count": 8,
   "id": "97d2535e",
   "metadata": {},
   "outputs": [],
   "source": [
    "for repeat in APC_repeats_filt.repeats:\n",
    "    if repeat.begin == 104055:\n",
    "        print(repeat)"
   ]
  },
  {
   "cell_type": "markdown",
   "id": "e294a4a4",
   "metadata": {},
   "source": [
    "We have to different annotations for the STR starting at position 104055! There are actually more examples of this in the filtered data, feel free to look for them. The annotations in this example are nearly identical, only the last unit is different. Why do you think we have this overlapping annotation?"
   ]
  },
  {
   "cell_type": "code",
   "execution_count": 22,
   "id": "80475a77",
   "metadata": {},
   "outputs": [],
   "source": [
    "# Task: write a short explanation for why there are overlapping entries. \n",
    "# BONUS: look for all overlapping entries in APC_repeats_filt.repeats\n",
    "\n"
   ]
  },
  {
   "cell_type": "markdown",
   "id": "d373ce7e",
   "metadata": {},
   "source": [
    "### 4: Clustering overlapping repeats\n",
    "\n",
    "Luckily, TRAL provides methods to remove overlapping repeat annotations, while keeping only the most 'high-quality' repeat in case of conflicting annotations.\n",
    "\n",
    "Which of the two overlapping STRs that start at position 104055 do you expect to be kept, and which to be removed? Why?"
   ]
  },
  {
   "cell_type": "code",
   "execution_count": 28,
   "id": "265c8acd",
   "metadata": {},
   "outputs": [],
   "source": [
    "# Task: write which STR out of the example above you expect to be removed, and which to be kept. \n",
    "# Why do you think this?\n"
   ]
  },
  {
   "cell_type": "code",
   "execution_count": 9,
   "id": "78e077ac",
   "metadata": {},
   "outputs": [],
   "source": [
    "APC_repeats_filt_clust = APC_repeats_filt.filter(\n",
    "    \"none_overlapping\", \n",
    "    [\"common_ancestry\"], \n",
    "    [(\"pvalue\", \"phylo_gap01\"), (\"divergence\", \"phylo_gap01\")]\n",
    ")\n",
    "APC_repeats_filt_clust = str_utils.sort_repeatlist(APC_repeats_filt_clust)\n",
    "\n",
    "print(f\"There are {len(APC_repeats_filt_clust.repeats)} STRs detected in the APC gene after filtering and clustering.\")\n"
   ]
  },
  {
   "cell_type": "markdown",
   "id": "55b9fae3",
   "metadata": {},
   "source": [
    "Let's see which of the two STRs from the previous example are still present after clustering:"
   ]
  },
  {
   "cell_type": "code",
   "execution_count": 10,
   "id": "1491162b",
   "metadata": {},
   "outputs": [],
   "source": [
    "for repeat in APC_repeats_filt_clust.repeats:\n",
    "    if repeat.begin == 104055:\n",
    "        print(repeat)"
   ]
  },
  {
   "cell_type": "code",
   "execution_count": 13,
   "id": "79a42dc7",
   "metadata": {},
   "outputs": [],
   "source": [
    "str_utils.plot_repeatlist(df_repeats)\n"
   ]
  },
  {
   "cell_type": "markdown",
   "id": "94a8d9e6",
   "metadata": {},
   "source": [
    "The histogram of clustered repeats should be very similar to the previous one, except that the counts are slightly lower due to the removal of redundant entries."
   ]
  },
  {
   "cell_type": "markdown",
   "id": "db8dca2a",
   "metadata": {},
   "source": [
    "### 5: Saving the repeats\n",
    "\n",
    "We are first going to convert our TRAL RepeatList to a pandas DataFrame in a convenient format, which we will then save for later use.\n",
    "\n",
    "As a sidenote: pandas is a Python library to work with data in a structured format (mostly as through the pandas DataFrame class). Pandas uses highly optimized C libraries behind the scenes to make working with this type of data fast and convenient. If you are interested in using Python for data sciences purposes, it is highly recommended to get familiar with pandas (and numpy, seaborn...)."
   ]
  },
  {
   "cell_type": "code",
   "execution_count": 14,
   "id": "d310c38b",
   "metadata": {},
   "outputs": [],
   "source": [
    "# convert TRAL RepeatList to pandas DataFrame\n",
    "df_repeats = str_utils.repeat_list_to_df(APC_repeats_filt_clust)\n",
    "df_repeats"
   ]
  },
  {
   "cell_type": "code",
   "execution_count": 32,
   "id": "5f3220e8",
   "metadata": {},
   "outputs": [],
   "source": [
    "# we will save our file in TSV format, which we need later on by GangSTR\n",
    "df_repeats.to_csv(\"../data/repeats/APC_repeats.tsv\", index=False, header=False, sep=\"\\t\")"
   ]
  }
 ],
 "metadata": {
  "kernelspec": {
   "display_name": "Python 3",
   "language": "python",
   "name": "python3"
  },
  "language_info": {
   "codemirror_mode": {
    "name": "ipython",
    "version": 3
   },
   "file_extension": ".py",
   "mimetype": "text/x-python",
   "name": "python",
   "nbconvert_exporter": "python",
   "pygments_lexer": "ipython3",
   "version": "3.6.15"
  }
 },
 "nbformat": 4,
 "nbformat_minor": 5
}
